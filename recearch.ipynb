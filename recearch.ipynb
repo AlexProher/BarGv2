{
 "cells": [
  {
   "cell_type": "code",
   "execution_count": 13,
   "metadata": {},
   "outputs": [],
   "source": [
    "from main import make_analysis\n",
    "import numpy as np\n",
    "from BarG.Analysis import SignalProcessing\n"
   ]
  },
  {
   "cell_type": "code",
   "execution_count": 2,
   "metadata": {},
   "outputs": [
    {
     "name": "stdout",
     "output_type": "stream",
     "text": [
      "material Black_Composite_SR1k\n",
      "/Users/lubimyj/Git/experiments/RAF_4Report/Black_Composite_SR1k/\n",
      "specimen Specimen1_12_06\n",
      "\n",
      "...detecting signal peaks with Sav - Gol filter with 57 window length (Curve Smoothing).\n",
      "\n",
      "...Peaks detected in both signals. \n",
      "\n",
      "Automatic Cropping CMPLT.\n",
      "...obtaining Fourier components\n",
      "...Fourier components obtained, performing inverse Fourier transform...\n",
      "Dispersion Correction CMPLT.\n",
      "\n",
      "Signal cross - corelation Initialized...\n",
      "\n",
      "Cross - Correlation CMPLT.\n",
      "Final Calculation Commencing...\n",
      "Unable to calculate Mean Striker Velocity.\n",
      "Final Calculation CMPLT.\n",
      "No IR data to analyse\n",
      "specimen Specimen1_27_06\n",
      "\n",
      "...detecting signal peaks with Sav - Gol filter with 57 window length (Curve Smoothing).\n",
      "\n",
      "...Peaks detected in both signals. \n",
      "\n",
      "Automatic Cropping CMPLT.\n",
      "...obtaining Fourier components\n",
      "...Fourier components obtained, performing inverse Fourier transform...\n",
      "Dispersion Correction CMPLT.\n",
      "\n",
      "Signal cross - corelation Initialized...\n",
      "\n",
      "Cross - Correlation CMPLT.\n",
      "Final Calculation Commencing...\n",
      "Unable to calculate Mean Striker Velocity.\n",
      "Final Calculation CMPLT.\n",
      "No IR data to analyse\n",
      "specimen Specimen2_12_06\n",
      "\n",
      "...detecting signal peaks with Sav - Gol filter with 57 window length (Curve Smoothing).\n",
      "\n",
      "...Peaks detected in both signals. \n",
      "\n",
      "Automatic Cropping CMPLT.\n",
      "...obtaining Fourier components\n",
      "...Fourier components obtained, performing inverse Fourier transform...\n",
      "Dispersion Correction CMPLT.\n",
      "\n",
      "Signal cross - corelation Initialized...\n",
      "\n",
      "Cross - Correlation CMPLT.\n",
      "Final Calculation Commencing...\n",
      "Unable to calculate Mean Striker Velocity.\n",
      "Final Calculation CMPLT.\n",
      "No IR data to analyse\n",
      "specimen Specimen2_21_07\n",
      "\n",
      "...detecting signal peaks with Sav - Gol filter with 57 window length (Curve Smoothing).\n",
      "\n",
      "...Peaks detected in both signals. \n",
      "\n",
      "Automatic Cropping CMPLT.\n",
      "...obtaining Fourier components\n",
      "...Fourier components obtained, performing inverse Fourier transform...\n",
      "Dispersion Correction CMPLT.\n",
      "\n",
      "Signal cross - corelation Initialized...\n",
      "\n",
      "Cross - Correlation CMPLT.\n",
      "Final Calculation Commencing...\n",
      "Unable to calculate Mean Striker Velocity.\n",
      "Final Calculation CMPLT.\n",
      "No IR data to analyse\n",
      "specimen Specimen2_27_06\n",
      "\n",
      "...detecting signal peaks with Sav - Gol filter with 57 window length (Curve Smoothing).\n",
      "\n",
      "...Peaks detected in both signals. \n",
      "\n",
      "Automatic Cropping CMPLT.\n",
      "...obtaining Fourier components\n",
      "...Fourier components obtained, performing inverse Fourier transform...\n",
      "Dispersion Correction CMPLT.\n",
      "\n",
      "Signal cross - corelation Initialized...\n",
      "\n",
      "Cross - Correlation CMPLT.\n",
      "Final Calculation Commencing...\n",
      "Unable to calculate Mean Striker Velocity.\n",
      "Final Calculation CMPLT.\n",
      "No IR data to analyse\n",
      "specimen Specimen3_12_06\n",
      "\n",
      "...detecting signal peaks with Sav - Gol filter with 57 window length (Curve Smoothing).\n",
      "\n",
      "...Peaks detected in both signals. \n",
      "\n",
      "Automatic Cropping CMPLT.\n",
      "...obtaining Fourier components\n",
      "...Fourier components obtained, performing inverse Fourier transform...\n",
      "Dispersion Correction CMPLT.\n",
      "\n",
      "Signal cross - corelation Initialized...\n",
      "\n",
      "Cross - Correlation CMPLT.\n",
      "Final Calculation Commencing...\n",
      "Unable to calculate Mean Striker Velocity.\n",
      "Final Calculation CMPLT.\n",
      "No IR data to analyse\n",
      "specimen Specimen3_21_07\n",
      "\n",
      "...detecting signal peaks with Sav - Gol filter with 57 window length (Curve Smoothing).\n",
      "\n",
      "...Peaks detected in both signals. \n",
      "\n",
      "Automatic Cropping CMPLT.\n",
      "...obtaining Fourier components\n",
      "...Fourier components obtained, performing inverse Fourier transform...\n",
      "Dispersion Correction CMPLT.\n",
      "\n",
      "Signal cross - corelation Initialized...\n",
      "\n",
      "Cross - Correlation CMPLT.\n",
      "Final Calculation Commencing...\n",
      "Unable to calculate Mean Striker Velocity.\n",
      "Final Calculation CMPLT.\n",
      "No IR data to analyse\n",
      "specimen Specimen3_27_06\n",
      "\n",
      "...detecting signal peaks with Sav - Gol filter with 57 window length (Curve Smoothing).\n",
      "\n",
      "...Peaks detected in both signals. \n",
      "\n",
      "Automatic Cropping CMPLT.\n",
      "...obtaining Fourier components\n",
      "...Fourier components obtained, performing inverse Fourier transform...\n",
      "Dispersion Correction CMPLT.\n",
      "\n",
      "Signal cross - corelation Initialized...\n",
      "\n",
      "Cross - Correlation CMPLT.\n",
      "Final Calculation Commencing...\n",
      "Unable to calculate Mean Striker Velocity.\n",
      "Final Calculation CMPLT.\n",
      "No IR data to analyse\n",
      "specimen Specimen4_21_07\n",
      "\n",
      "...detecting signal peaks with Sav - Gol filter with 57 window length (Curve Smoothing).\n",
      "\n",
      "...Peaks detected in both signals. \n",
      "\n",
      "Automatic Cropping CMPLT.\n",
      "...obtaining Fourier components\n",
      "...Fourier components obtained, performing inverse Fourier transform...\n",
      "Dispersion Correction CMPLT.\n",
      "\n",
      "Signal cross - corelation Initialized...\n",
      "\n",
      "Cross - Correlation CMPLT.\n",
      "Final Calculation Commencing...\n",
      "Unable to calculate Mean Striker Velocity.\n",
      "Final Calculation CMPLT.\n",
      "No IR data to analyse\n",
      "material Black_Composite_SR2k\n",
      "/Users/lubimyj/Git/experiments/RAF_4Report/Black_Composite_SR2k/\n",
      "specimen Specimen1_20_06\n",
      "\n",
      "...detecting signal peaks with Sav - Gol filter with 57 window length (Curve Smoothing).\n",
      "\n",
      "...Peaks detected in both signals. \n",
      "\n",
      "Automatic Cropping CMPLT.\n",
      "...obtaining Fourier components\n",
      "...Fourier components obtained, performing inverse Fourier transform...\n",
      "Dispersion Correction CMPLT.\n",
      "\n",
      "Signal cross - corelation Initialized...\n",
      "\n",
      "Cross - Correlation CMPLT.\n",
      "Final Calculation Commencing...\n",
      "Unable to calculate Mean Striker Velocity.\n",
      "Final Calculation CMPLT.\n",
      "No IR data to analyse\n",
      "specimen Specimen1_27_06\n",
      "\n",
      "...detecting signal peaks with Sav - Gol filter with 57 window length (Curve Smoothing).\n",
      "\n",
      "...Peaks detected in both signals. \n",
      "\n",
      "Automatic Cropping CMPLT.\n",
      "...obtaining Fourier components\n",
      "...Fourier components obtained, performing inverse Fourier transform...\n",
      "Dispersion Correction CMPLT.\n",
      "\n",
      "Signal cross - corelation Initialized...\n",
      "\n",
      "Cross - Correlation CMPLT.\n",
      "Final Calculation Commencing...\n",
      "Unable to calculate Mean Striker Velocity.\n",
      "Final Calculation CMPLT.\n",
      "No IR data to analyse\n",
      "specimen Specimen2_20_06\n",
      "\n",
      "...detecting signal peaks with Sav - Gol filter with 57 window length (Curve Smoothing).\n",
      "\n",
      "...Peaks detected in both signals. \n",
      "\n",
      "Automatic Cropping CMPLT.\n",
      "...obtaining Fourier components\n",
      "...Fourier components obtained, performing inverse Fourier transform...\n",
      "Dispersion Correction CMPLT.\n",
      "\n",
      "Signal cross - corelation Initialized...\n",
      "\n",
      "Cross - Correlation CMPLT.\n",
      "Final Calculation Commencing...\n",
      "Unable to calculate Mean Striker Velocity.\n",
      "Final Calculation CMPLT.\n",
      "No IR data to analyse\n",
      "specimen Specimen2_27_06\n",
      "\n",
      "...detecting signal peaks with Sav - Gol filter with 57 window length (Curve Smoothing).\n",
      "\n",
      "...Peaks detected in both signals. \n",
      "\n",
      "Automatic Cropping CMPLT.\n",
      "...obtaining Fourier components\n",
      "...Fourier components obtained, performing inverse Fourier transform...\n",
      "Dispersion Correction CMPLT.\n",
      "\n",
      "Signal cross - corelation Initialized...\n",
      "\n",
      "Cross - Correlation CMPLT.\n",
      "Final Calculation Commencing...\n",
      "Unable to calculate Mean Striker Velocity.\n",
      "Final Calculation CMPLT.\n",
      "No IR data to analyse\n",
      "specimen Specimen3_20_06\n",
      "\n",
      "...detecting signal peaks with Sav - Gol filter with 57 window length (Curve Smoothing).\n",
      "\n",
      "...Peaks detected in both signals. \n",
      "\n",
      "Automatic Cropping CMPLT.\n",
      "...obtaining Fourier components\n",
      "...Fourier components obtained, performing inverse Fourier transform...\n",
      "Dispersion Correction CMPLT.\n",
      "\n",
      "Signal cross - corelation Initialized...\n",
      "\n",
      "Cross - Correlation CMPLT.\n",
      "Final Calculation Commencing...\n",
      "Unable to calculate Mean Striker Velocity.\n",
      "Final Calculation CMPLT.\n",
      "No IR data to analyse\n",
      "specimen Specimen3_27_06\n",
      "\n",
      "...detecting signal peaks with Sav - Gol filter with 57 window length (Curve Smoothing).\n",
      "\n",
      "...Peaks detected in both signals. \n",
      "\n",
      "Automatic Cropping CMPLT.\n",
      "...obtaining Fourier components\n",
      "...Fourier components obtained, performing inverse Fourier transform...\n",
      "Dispersion Correction CMPLT.\n",
      "\n",
      "Signal cross - corelation Initialized...\n",
      "\n",
      "Cross - Correlation CMPLT.\n",
      "Final Calculation Commencing...\n",
      "Unable to calculate Mean Striker Velocity.\n",
      "Final Calculation CMPLT.\n",
      "No IR data to analyse\n",
      "specimen Specimen5_21_07\n",
      "\n",
      "...detecting signal peaks with Sav - Gol filter with 57 window length (Curve Smoothing).\n",
      "\n",
      "...Peaks detected in both signals. \n",
      "\n",
      "Automatic Cropping CMPLT.\n",
      "...obtaining Fourier components\n",
      "...Fourier components obtained, performing inverse Fourier transform...\n",
      "Dispersion Correction CMPLT.\n",
      "\n",
      "Signal cross - corelation Initialized...\n",
      "\n",
      "Cross - Correlation CMPLT.\n",
      "Final Calculation Commencing...\n",
      "Unable to calculate Mean Striker Velocity.\n",
      "Final Calculation CMPLT.\n",
      "No IR data to analyse\n",
      "specimen Specimen6_21_07\n",
      "\n",
      "...detecting signal peaks with Sav - Gol filter with 57 window length (Curve Smoothing).\n",
      "\n",
      "...Peaks detected in both signals. \n",
      "\n",
      "Automatic Cropping CMPLT.\n",
      "...obtaining Fourier components\n",
      "...Fourier components obtained, performing inverse Fourier transform...\n",
      "Dispersion Correction CMPLT.\n",
      "\n",
      "Signal cross - corelation Initialized...\n",
      "\n",
      "Cross - Correlation CMPLT.\n",
      "Final Calculation Commencing...\n",
      "Unable to calculate Mean Striker Velocity.\n",
      "Final Calculation CMPLT.\n",
      "No IR data to analyse\n",
      "specimen Specimen7_21_07\n",
      "\n",
      "...detecting signal peaks with Sav - Gol filter with 57 window length (Curve Smoothing).\n",
      "\n",
      "...Peaks detected in both signals. \n",
      "\n",
      "Automatic Cropping CMPLT.\n",
      "...obtaining Fourier components\n",
      "...Fourier components obtained, performing inverse Fourier transform...\n",
      "Dispersion Correction CMPLT.\n",
      "\n",
      "Signal cross - corelation Initialized...\n",
      "\n",
      "Cross - Correlation CMPLT.\n",
      "Final Calculation Commencing...\n",
      "Unable to calculate Mean Striker Velocity.\n",
      "Final Calculation CMPLT.\n",
      "No IR data to analyse\n",
      "material Epoxy_Resin_1_SR1k\n",
      "/Users/lubimyj/Git/experiments/RAF_4Report/Epoxy_Resin_1_SR1k/\n",
      "specimen Specimen4_12_06\n",
      "\n",
      "...detecting signal peaks with Sav - Gol filter with 57 window length (Curve Smoothing).\n",
      "\n",
      "...Peaks detected in both signals. \n",
      "\n",
      "Automatic Cropping CMPLT.\n",
      "...obtaining Fourier components\n",
      "...Fourier components obtained, performing inverse Fourier transform...\n",
      "Dispersion Correction CMPLT.\n",
      "\n",
      "Signal cross - corelation Initialized...\n",
      "\n",
      "Cross - Correlation CMPLT.\n",
      "Final Calculation Commencing...\n",
      "Unable to calculate Mean Striker Velocity.\n",
      "Final Calculation CMPLT.\n",
      "No IR data to analyse\n",
      "specimen Specimen4_27_06\n",
      "\n",
      "...detecting signal peaks with Sav - Gol filter with 57 window length (Curve Smoothing).\n",
      "\n",
      "...Peaks detected in both signals. \n",
      "\n",
      "Automatic Cropping CMPLT.\n",
      "...obtaining Fourier components\n",
      "...Fourier components obtained, performing inverse Fourier transform...\n",
      "Dispersion Correction CMPLT.\n",
      "\n",
      "Signal cross - corelation Initialized...\n",
      "\n",
      "Cross - Correlation CMPLT.\n",
      "Final Calculation Commencing...\n",
      "Unable to calculate Mean Striker Velocity.\n",
      "Final Calculation CMPLT.\n",
      "No IR data to analyse\n",
      "specimen Specimen5_12_06\n",
      "\n",
      "...detecting signal peaks with Sav - Gol filter with 57 window length (Curve Smoothing).\n",
      "\n",
      "...Peaks detected in both signals. \n",
      "\n",
      "Automatic Cropping CMPLT.\n",
      "...obtaining Fourier components\n",
      "...Fourier components obtained, performing inverse Fourier transform...\n",
      "Dispersion Correction CMPLT.\n",
      "\n",
      "Signal cross - corelation Initialized...\n",
      "\n",
      "Cross - Correlation CMPLT.\n",
      "Final Calculation Commencing...\n",
      "Unable to calculate Mean Striker Velocity.\n",
      "Final Calculation CMPLT.\n",
      "No IR data to analyse\n",
      "specimen Specimen5_27_06\n",
      "\n",
      "...detecting signal peaks with Sav - Gol filter with 57 window length (Curve Smoothing).\n",
      "\n",
      "...Peaks detected in both signals. \n",
      "\n",
      "Automatic Cropping CMPLT.\n",
      "...obtaining Fourier components\n",
      "...Fourier components obtained, performing inverse Fourier transform...\n",
      "Dispersion Correction CMPLT.\n",
      "\n",
      "Signal cross - corelation Initialized...\n",
      "\n",
      "Cross - Correlation CMPLT.\n",
      "Final Calculation Commencing...\n",
      "Unable to calculate Mean Striker Velocity.\n",
      "Final Calculation CMPLT.\n",
      "No IR data to analyse\n",
      "specimen Specimen6_12_06\n",
      "\n",
      "...detecting signal peaks with Sav - Gol filter with 57 window length (Curve Smoothing).\n",
      "\n",
      "...Peaks detected in both signals. \n",
      "\n",
      "Automatic Cropping CMPLT.\n",
      "...obtaining Fourier components\n",
      "...Fourier components obtained, performing inverse Fourier transform...\n",
      "Dispersion Correction CMPLT.\n",
      "\n",
      "Signal cross - corelation Initialized...\n",
      "\n",
      "Cross - Correlation CMPLT.\n",
      "Final Calculation Commencing...\n",
      "Unable to calculate Mean Striker Velocity.\n",
      "Final Calculation CMPLT.\n",
      "No IR data to analyse\n",
      "specimen Specimen6_27_06\n",
      "\n",
      "...detecting signal peaks with Sav - Gol filter with 57 window length (Curve Smoothing).\n",
      "\n",
      "...Peaks detected in both signals. \n",
      "\n",
      "Automatic Cropping CMPLT.\n",
      "...obtaining Fourier components\n",
      "...Fourier components obtained, performing inverse Fourier transform...\n",
      "Dispersion Correction CMPLT.\n",
      "\n",
      "Signal cross - corelation Initialized...\n",
      "\n",
      "Cross - Correlation CMPLT.\n",
      "Final Calculation Commencing...\n",
      "Unable to calculate Mean Striker Velocity.\n",
      "Final Calculation CMPLT.\n",
      "No IR data to analyse\n",
      "material Epoxy_Resin_1_SR2k\n",
      "/Users/lubimyj/Git/experiments/RAF_4Report/Epoxy_Resin_1_SR2k/\n",
      "specimen Specimen4_20_06\n",
      "\n",
      "...detecting signal peaks with Sav - Gol filter with 57 window length (Curve Smoothing).\n",
      "\n",
      "...Peaks detected in both signals. \n",
      "\n",
      "Automatic Cropping CMPLT.\n",
      "...obtaining Fourier components\n",
      "...Fourier components obtained, performing inverse Fourier transform...\n",
      "Dispersion Correction CMPLT.\n",
      "\n",
      "Signal cross - corelation Initialized...\n",
      "\n",
      "Cross - Correlation CMPLT.\n",
      "Final Calculation Commencing...\n",
      "Unable to calculate Mean Striker Velocity.\n",
      "Final Calculation CMPLT.\n",
      "No IR data to analyse\n",
      "specimen Specimen4_27_06\n",
      "\n",
      "...detecting signal peaks with Sav - Gol filter with 57 window length (Curve Smoothing).\n",
      "\n",
      "...Peaks detected in both signals. \n",
      "\n",
      "Automatic Cropping CMPLT.\n",
      "...obtaining Fourier components\n",
      "...Fourier components obtained, performing inverse Fourier transform...\n",
      "Dispersion Correction CMPLT.\n",
      "\n",
      "Signal cross - corelation Initialized...\n",
      "\n",
      "Cross - Correlation CMPLT.\n",
      "Final Calculation Commencing...\n",
      "Unable to calculate Mean Striker Velocity.\n",
      "Final Calculation CMPLT.\n",
      "No IR data to analyse\n",
      "specimen Specimen5_27_06\n",
      "\n",
      "...detecting signal peaks with Sav - Gol filter with 57 window length (Curve Smoothing).\n",
      "\n",
      "...Peaks detected in both signals. \n",
      "\n",
      "Automatic Cropping CMPLT.\n",
      "...obtaining Fourier components\n",
      "...Fourier components obtained, performing inverse Fourier transform...\n",
      "Dispersion Correction CMPLT.\n",
      "\n",
      "Signal cross - corelation Initialized...\n",
      "\n",
      "Cross - Correlation CMPLT.\n",
      "Final Calculation Commencing...\n",
      "Unable to calculate Mean Striker Velocity.\n",
      "Final Calculation CMPLT.\n",
      "No IR data to analyse\n",
      "specimen Specimen6_27_06\n",
      "\n",
      "...detecting signal peaks with Sav - Gol filter with 57 window length (Curve Smoothing).\n",
      "\n",
      "...Peaks detected in both signals. \n",
      "\n",
      "Automatic Cropping CMPLT.\n",
      "...obtaining Fourier components\n",
      "...Fourier components obtained, performing inverse Fourier transform...\n",
      "Dispersion Correction CMPLT.\n",
      "\n",
      "Signal cross - corelation Initialized...\n",
      "\n",
      "Cross - Correlation CMPLT.\n",
      "Final Calculation Commencing...\n",
      "Unable to calculate Mean Striker Velocity.\n",
      "Final Calculation CMPLT.\n",
      "No IR data to analyse\n",
      "material Epoxy_Resin_2_SR1k\n",
      "/Users/lubimyj/Git/experiments/RAF_4Report/Epoxy_Resin_2_SR1k/\n",
      "specimen Specimen7_12_06\n",
      "\n",
      "...detecting signal peaks with Sav - Gol filter with 57 window length (Curve Smoothing).\n",
      "\n",
      "...Peaks detected in both signals. \n",
      "\n",
      "Automatic Cropping CMPLT.\n",
      "...obtaining Fourier components\n",
      "...Fourier components obtained, performing inverse Fourier transform...\n",
      "Dispersion Correction CMPLT.\n",
      "\n",
      "Signal cross - corelation Initialized...\n",
      "\n",
      "Cross - Correlation CMPLT.\n",
      "Final Calculation Commencing...\n",
      "Unable to calculate Mean Striker Velocity.\n",
      "Final Calculation CMPLT.\n",
      "No IR data to analyse\n",
      "specimen Specimen7_27_06\n",
      "\n",
      "...detecting signal peaks with Sav - Gol filter with 57 window length (Curve Smoothing).\n",
      "\n",
      "...Peaks detected in both signals. \n",
      "\n",
      "Automatic Cropping CMPLT.\n",
      "...obtaining Fourier components\n",
      "...Fourier components obtained, performing inverse Fourier transform...\n",
      "Dispersion Correction CMPLT.\n",
      "\n",
      "Signal cross - corelation Initialized...\n",
      "\n",
      "Cross - Correlation CMPLT.\n",
      "Final Calculation Commencing...\n",
      "Unable to calculate Mean Striker Velocity.\n",
      "Final Calculation CMPLT.\n",
      "No IR data to analyse\n",
      "specimen Specimen8_12_06\n",
      "\n",
      "...detecting signal peaks with Sav - Gol filter with 57 window length (Curve Smoothing).\n",
      "\n",
      "...Peaks detected in both signals. \n",
      "\n",
      "Automatic Cropping CMPLT.\n",
      "...obtaining Fourier components\n",
      "...Fourier components obtained, performing inverse Fourier transform...\n",
      "Dispersion Correction CMPLT.\n",
      "\n",
      "Signal cross - corelation Initialized...\n",
      "\n",
      "Cross - Correlation CMPLT.\n",
      "Final Calculation Commencing...\n",
      "Unable to calculate Mean Striker Velocity.\n",
      "Final Calculation CMPLT.\n",
      "No IR data to analyse\n",
      "specimen Specimen8_27_06\n",
      "\n",
      "...detecting signal peaks with Sav - Gol filter with 57 window length (Curve Smoothing).\n",
      "\n",
      "...Peaks detected in both signals. \n",
      "\n",
      "Automatic Cropping CMPLT.\n",
      "...obtaining Fourier components\n",
      "...Fourier components obtained, performing inverse Fourier transform...\n",
      "Dispersion Correction CMPLT.\n",
      "\n",
      "Signal cross - corelation Initialized...\n",
      "\n",
      "Cross - Correlation CMPLT.\n",
      "Final Calculation Commencing...\n",
      "Unable to calculate Mean Striker Velocity.\n",
      "Final Calculation CMPLT.\n",
      "No IR data to analyse\n",
      "material Epoxy_Resin_2_SR2k\n",
      "/Users/lubimyj/Git/experiments/RAF_4Report/Epoxy_Resin_2_SR2k/\n",
      "specimen Specimen10_27_06\n",
      "\n",
      "...detecting signal peaks with Sav - Gol filter with 57 window length (Curve Smoothing).\n",
      "\n",
      "...Peaks detected in both signals. \n",
      "\n",
      "Automatic Cropping CMPLT.\n",
      "...obtaining Fourier components\n",
      "...Fourier components obtained, performing inverse Fourier transform...\n",
      "Dispersion Correction CMPLT.\n",
      "\n",
      "Signal cross - corelation Initialized...\n",
      "\n",
      "Cross - Correlation CMPLT.\n",
      "Final Calculation Commencing...\n",
      "Unable to calculate Mean Striker Velocity.\n",
      "Final Calculation CMPLT.\n",
      "No IR data to analyse\n",
      "specimen Specimen5_20_06\n",
      "\n",
      "...detecting signal peaks with Sav - Gol filter with 57 window length (Curve Smoothing).\n",
      "\n",
      "...Peaks detected in both signals. \n",
      "\n",
      "Automatic Cropping CMPLT.\n",
      "...obtaining Fourier components\n",
      "...Fourier components obtained, performing inverse Fourier transform...\n",
      "Dispersion Correction CMPLT.\n",
      "\n",
      "Signal cross - corelation Initialized...\n",
      "\n",
      "Cross - Correlation CMPLT.\n",
      "Final Calculation Commencing...\n",
      "Unable to calculate Mean Striker Velocity.\n",
      "Final Calculation CMPLT.\n",
      "No IR data to analyse\n",
      "specimen Specimen7_27_06\n",
      "\n",
      "...detecting signal peaks with Sav - Gol filter with 57 window length (Curve Smoothing).\n",
      "\n",
      "...Peaks detected in both signals. \n",
      "\n",
      "Automatic Cropping CMPLT.\n",
      "...obtaining Fourier components\n",
      "...Fourier components obtained, performing inverse Fourier transform...\n",
      "Dispersion Correction CMPLT.\n",
      "\n",
      "Signal cross - corelation Initialized...\n",
      "\n",
      "Cross - Correlation CMPLT.\n",
      "Final Calculation Commencing...\n",
      "Unable to calculate Mean Striker Velocity.\n",
      "Final Calculation CMPLT.\n",
      "No IR data to analyse\n",
      "specimen Specimen8_27_06\n",
      "\n",
      "...detecting signal peaks with Sav - Gol filter with 57 window length (Curve Smoothing).\n",
      "\n",
      "...Peaks detected in both signals. \n",
      "\n",
      "Automatic Cropping CMPLT.\n",
      "...obtaining Fourier components\n",
      "...Fourier components obtained, performing inverse Fourier transform...\n",
      "Dispersion Correction CMPLT.\n",
      "\n",
      "Signal cross - corelation Initialized...\n",
      "\n",
      "Cross - Correlation CMPLT.\n",
      "Final Calculation Commencing...\n",
      "Unable to calculate Mean Striker Velocity.\n",
      "Final Calculation CMPLT.\n",
      "No IR data to analyse\n",
      "specimen Specimen9_27_06\n",
      "\n",
      "...detecting signal peaks with Sav - Gol filter with 57 window length (Curve Smoothing).\n",
      "\n",
      "...Peaks detected in both signals. \n",
      "\n",
      "Automatic Cropping CMPLT.\n",
      "...obtaining Fourier components\n",
      "...Fourier components obtained, performing inverse Fourier transform...\n",
      "Dispersion Correction CMPLT.\n",
      "\n",
      "Signal cross - corelation Initialized...\n",
      "\n",
      "Cross - Correlation CMPLT.\n",
      "Final Calculation Commencing...\n",
      "Unable to calculate Mean Striker Velocity.\n",
      "Final Calculation CMPLT.\n",
      "No IR data to analyse\n"
     ]
    }
   ],
   "source": [
    "#experiment = make_analysis('/Users/lubimyj/Git/experiments/RAF_4Report/')\n",
    "experiment = make_analysis('/Users/lubimyj/Git/experiments/raf_test/')"
   ]
  },
  {
   "cell_type": "code",
   "execution_count": 3,
   "metadata": {},
   "outputs": [],
   "source": [
    "material = experiment.get_material('Epoxy_Resin_1_SR2k')"
   ]
  },
  {
   "cell_type": "code",
   "execution_count": 4,
   "metadata": {},
   "outputs": [
    {
     "data": {
      "text/plain": [
       "dict_keys(['title', 'material', 'index', 'raw_incid', 'raw_transm', 'raw_time', 'l', 'd', 'valid', 'IR', 'mech', 'time', 'incid', 'trans', 'reflect', 'u_in', 'u_out', 'eng_strain', 'eng_stress', 'F_in', 'F_out', 'true_strain', 'raw_temperature', 'raw_time_IR', 'temperature', 'time_IR', 'true_stress', 'strain_rate'])"
      ]
     },
     "execution_count": 4,
     "metadata": {},
     "output_type": "execute_result"
    }
   ],
   "source": [
    "sp1 = material.get_specimens()[0]\n",
    "sp1.__dict__.keys()"
   ]
  },
  {
   "cell_type": "code",
   "execution_count": 5,
   "metadata": {},
   "outputs": [
    {
     "data": {
      "text/plain": [
       "[14.196746509144297,\n",
       " 22.49150166429206,\n",
       " 12.539197997447348,\n",
       " 15.751857799884975,\n",
       " 24.64972884199871,\n",
       " 25.99613976288179,\n",
       " 12.702369650631635,\n",
       " 24.810938159426048,\n",
       " 40.80770752366488,\n",
       " 30.22099568387894,\n",
       " -12.158325210922904,\n",
       " 9.022466018462163,\n",
       " 72.45169838262322,\n",
       " 69.83142533286795,\n",
       " 1.0819219917490275,\n",
       " -15.57444094165861,\n",
       " 27.021264628180678,\n",
       " 85.20469116941364,\n",
       " 70.44409918682696,\n",
       " 8.585538751573875,\n",
       " -2.0356225958599237,\n",
       " 34.531190283753055,\n",
       " 31.63693671770891,\n",
       " 53.012309032566705,\n",
       " 75.53790921636107,\n",
       " 29.086027967892445,\n",
       " -24.197631408042906,\n",
       " 16.138723886315812,\n",
       " 77.02807641143056,\n",
       " 65.12758307391712,\n",
       " 14.937459228769361,\n",
       " 22.450006210431717,\n",
       " 37.38506449995996,\n",
       " 11.319955946279077,\n",
       " 23.327264743496812,\n",
       " 63.882543934189286,\n",
       " 35.3818838104254,\n",
       " 31.365843893907176,\n",
       " 50.78928755825616,\n",
       " 3.099155309301866,\n",
       " -0.5094290955536445,\n",
       " 71.45458916315738,\n",
       " 64.5810512476009,\n",
       " 27.937813207961852,\n",
       " 38.95197793356914,\n",
       " 21.355931810767142,\n",
       " 2.89156451533285,\n",
       " 39.4215683974554,\n",
       " 52.5932307615432,\n",
       " 45.805390555336096,\n",
       " 43.86304513057558,\n",
       " 18.210169031616292,\n",
       " 13.654389296807995,\n",
       " 39.83737923529301,\n",
       " 39.615430791815314,\n",
       " 43.81763580307633,\n",
       " 61.30154142808965,\n",
       " 43.589679145923085,\n",
       " 24.040345243360623,\n",
       " 27.757061469828354,\n",
       " 23.125716828070612,\n",
       " 27.285029989247295,\n",
       " 53.232201048863544,\n",
       " 57.094784550054925,\n",
       " 40.69062323636249,\n",
       " 35.388266244178375,\n",
       " 38.91407045013982,\n",
       " 49.28956997297457,\n",
       " 70.18859141577494,\n",
       " 92.73824167739264,\n",
       " 111.21682124633821,\n",
       " 121.53543691928932,\n",
       " 131.86967458456536,\n",
       " 151.64957835685956,\n",
       " 185.3744623677615,\n",
       " 225.36650440665537,\n",
       " 277.3856281692716,\n",
       " 325.63765737752567,\n",
       " 369.50446429689987,\n",
       " 413.0427968997023,\n",
       " 464.15875788448335,\n",
       " 520.7241384555426,\n",
       " 594.2169239592773,\n",
       " 670.248086345181,\n",
       " 753.8918937220267,\n",
       " 832.2989170985752,\n",
       " 907.6428181200582,\n",
       " 977.150661194677,\n",
       " 1056.462404890348,\n",
       " 1120.3544608932596,\n",
       " 1193.083670927832,\n",
       " 1264.88247741107,\n",
       " 1325.8858747763165,\n",
       " 1363.6499247779432,\n",
       " 1397.7312214665228,\n",
       " 1409.6886496224115,\n",
       " 1435.567553867002,\n",
       " 1442.2120661231133,\n",
       " 1447.6613810161145,\n",
       " 1449.8968651757755,\n",
       " 1460.3523910357687,\n",
       " 1433.4403463997787,\n",
       " 1443.8971391291816,\n",
       " 1404.5433571046312,\n",
       " 1414.1732127562775,\n",
       " 1407.2545019154618,\n",
       " 1391.0277170820589,\n",
       " 1423.6917377286634,\n",
       " 1404.1638347775458,\n",
       " 1427.3702310808294,\n",
       " 1415.1466857341725,\n",
       " 1412.4244121492745,\n",
       " 1414.0873699090773,\n",
       " 1416.9369438721983,\n",
       " 1409.5421514413576,\n",
       " 1407.9291286465418,\n",
       " 1397.3777135168743,\n",
       " 1393.3472192850306,\n",
       " 1380.862304755016,\n",
       " 1363.6964606148492,\n",
       " 1349.5051279544691,\n",
       " 1340.6867576486075,\n",
       " 1332.0683734059796,\n",
       " 1329.6252868773186,\n",
       " 1324.7539248324576,\n",
       " 1320.3957824196073,\n",
       " 1318.578052613202,\n",
       " 1316.101177225598,\n",
       " 1308.0883083220372,\n",
       " 1304.5893374683287,\n",
       " 1303.1977008203207,\n",
       " 1293.1777753772756,\n",
       " 1282.770057091829,\n",
       " 1278.8736197982528,\n",
       " 1277.5520000489116,\n",
       " 1269.1238840734732,\n",
       " 1256.7792760174227,\n",
       " 1251.0028831344396,\n",
       " 1251.7166366465885,\n",
       " 1249.7965710780095,\n",
       " 1243.4778571871993,\n",
       " 1235.5174142540814,\n",
       " 1231.6298807900234,\n",
       " 1224.579291964901,\n",
       " 1214.7306551388147,\n",
       " 1207.0689559632315,\n",
       " 1204.2126754518886,\n",
       " 1200.1844782800983,\n",
       " 1188.5972121973846,\n",
       " 1175.836455027587,\n",
       " 1171.6453545639754,\n",
       " 1166.0451642362762,\n",
       " 1160.8584713525017,\n",
       " 1158.1578951909876,\n",
       " 1156.3805299728933,\n",
       " 1154.3882934129194,\n",
       " 1150.4377028125734,\n",
       " 1144.1715088354817,\n",
       " 1138.0785360663253,\n",
       " 1132.5118182229523,\n",
       " 1118.7347792966252,\n",
       " 1106.9104375368042,\n",
       " 1103.1106975510459,\n",
       " 1102.7695641972277,\n",
       " 1098.80759316194,\n",
       " 1093.8455772146388,\n",
       " 1091.1268530783545,\n",
       " 1087.0714090332892,\n",
       " 1076.5054474596154,\n",
       " 1062.645089011506,\n",
       " 1050.6630088598918,\n",
       " 1044.2189675714387,\n",
       " 1040.1446797155324,\n",
       " 1038.4612777111004,\n",
       " 1036.570529802806,\n",
       " 1037.9607006991262,\n",
       " 1028.700292223948,\n",
       " 1018.0689757129677,\n",
       " 1008.039370084343,\n",
       " 1000.0061472549235,\n",
       " 986.6419170461603,\n",
       " 979.4267092968097,\n",
       " 973.3886601883646,\n",
       " 974.7923819122641,\n",
       " 977.0301366122719,\n",
       " 977.914635110531,\n",
       " 973.766614660619,\n",
       " 969.7302535779593,\n",
       " 954.4830585891847,\n",
       " 940.619117346598,\n",
       " 927.3255120855255,\n",
       " 919.1300338260592,\n",
       " 913.5631939215384,\n",
       " 913.5774632323311,\n",
       " 912.7159738681563,\n",
       " 919.6964284213676,\n",
       " 921.1452969557538,\n",
       " 913.735360615462,\n",
       " 898.3591981305611,\n",
       " 887.3861673199918,\n",
       " 869.2638977104754,\n",
       " 854.5747259308931,\n",
       " 836.4508237182442,\n",
       " 837.0924701091102,\n",
       " 835.6405420087347,\n",
       " 837.4111197144261,\n",
       " 835.8401603329369,\n",
       " 841.2613825344805,\n",
       " 830.7828076593308,\n",
       " 814.9134489836287,\n",
       " 787.9911424207953,\n",
       " 767.0286377018391,\n",
       " 738.4774094156854,\n",
       " 713.0513685741746,\n",
       " 689.8415396042249,\n",
       " 679.0290519951691,\n",
       " 661.0607288327712,\n",
       " 646.6534283603116,\n",
       " 626.8408521959581,\n",
       " 600.9456848094229,\n",
       " 558.4985784390425,\n",
       " 509.8370640132329,\n",
       " 440.15570234462405,\n",
       " 374.09424292925365,\n",
       " 300.674812850703,\n",
       " 233.55641454189586,\n",
       " 165.70315245676434,\n",
       " 106.54819793827349,\n",
       " 46.666730105036436,\n",
       " 0.7618779648975353,\n",
       " -55.826738783328125,\n",
       " -103.03001250227315,\n",
       " -162.20927217503962,\n",
       " -226.50223575045624,\n",
       " -294.9194446482162,\n",
       " -349.4880486369849,\n",
       " -420.07996048614507,\n",
       " -477.0281514061863,\n",
       " -522.7348508873698,\n",
       " -547.9074623655357,\n",
       " -562.7382251253107,\n",
       " -565.7129648848909,\n",
       " -571.1261675363623,\n",
       " -545.2067487976352,\n",
       " -524.6448048278457,\n",
       " -509.4504233078663,\n",
       " -505.2475463674145,\n",
       " -496.14764491231915,\n",
       " -501.0405946059808,\n",
       " -503.8823160776356,\n",
       " -527.6737793978579,\n",
       " -544.9895790311668,\n",
       " -555.6259534790331,\n",
       " -560.7533339011401,\n",
       " -570.602283338114,\n",
       " -559.1480809193673,\n",
       " -549.4574653941756,\n",
       " -524.3323423853642,\n",
       " -507.7380907768541,\n",
       " -484.9217720675376,\n",
       " -463.67567797592113,\n",
       " -438.22772767662264,\n",
       " -436.1149460398364,\n",
       " -435.9268290722446,\n",
       " -450.7381139831596,\n",
       " -452.5519218286785,\n",
       " -469.492904000994,\n",
       " -500.3882352824794,\n",
       " -532.0409016389345,\n",
       " -535.5433653653553,\n",
       " -554.0065719169111,\n",
       " -566.5370921401768,\n",
       " -577.5950727271639,\n",
       " -567.578796032272,\n",
       " -552.2630708760724,\n",
       " -530.4154802347141,\n",
       " -514.8474573749326,\n",
       " -471.47955580896667,\n",
       " -437.2999406545222,\n",
       " -397.68055862531713,\n",
       " -359.0131006104394,\n",
       " -316.87260649973007,\n",
       " -283.61472055248294,\n",
       " -232.64714668590008,\n",
       " -199.86881780285432,\n",
       " -173.7758029727086,\n",
       " -152.78501547605103]"
      ]
     },
     "execution_count": 5,
     "metadata": {},
     "output_type": "execute_result"
    }
   ],
   "source": [
    "sp1.strain_rate"
   ]
  },
  {
   "cell_type": "code",
   "execution_count": 6,
   "metadata": {},
   "outputs": [
    {
     "data": {
      "application/vnd.plotly.v1+json": {
       "config": {
        "plotlyServerURL": "https://plot.ly"
       },
       "data": [
        {
         "type": "scatter",
         "x": [
          5e-7,
          0.000001,
          0.0000015,
          0.000002,
          0.0000024999999999999998,
          0.000003,
          0.0000035,
          0.000004,
          0.0000045,
          0.0000049999999999999996,
          0.0000055,
          0.000006,
          0.0000065,
          0.000007,
          0.000007499999999999999,
          0.000008,
          0.0000085,
          0.000009,
          0.000009499999999999999,
          0.000009999999999999999,
          0.0000105,
          0.000011,
          0.0000115,
          0.000012,
          0.000012499999999999999,
          0.000013,
          0.0000135,
          0.000014,
          0.0000145,
          0.000014999999999999999,
          0.0000155,
          0.000016,
          0.000016499999999999998,
          0.000017,
          0.0000175,
          0.000018,
          0.0000185,
          0.000018999999999999998,
          0.0000195,
          0.000019999999999999998,
          0.0000205,
          0.000021,
          0.000021499999999999997,
          0.000022,
          0.000022499999999999998,
          0.000023,
          0.0000235,
          0.000024,
          0.0000245,
          0.000024999999999999998,
          0.0000255,
          0.000026,
          0.0000265,
          0.000027,
          0.000027499999999999998,
          0.000028,
          0.000028499999999999998,
          0.000029,
          0.0000295,
          0.000029999999999999997,
          0.0000305,
          0.000031,
          0.0000315,
          0.000032,
          0.0000325,
          0.000032999999999999996,
          0.0000335,
          0.000034,
          0.0000345,
          0.000035,
          0.000035499999999999996,
          0.000036,
          0.0000365,
          0.000037,
          0.0000375,
          0.000037999999999999995,
          0.0000385,
          0.000039,
          0.0000395,
          0.000039999999999999996,
          0.000040499999999999995,
          0.000041,
          0.0000415,
          0.000042,
          0.000042499999999999996,
          0.000042999999999999995,
          0.0000435,
          0.000044,
          0.0000445,
          0.000044999999999999996,
          0.000045499999999999995,
          0.000046,
          0.0000465,
          0.000047,
          0.000047499999999999996,
          0.000048,
          0.0000485,
          0.000049,
          0.0000495,
          0.000049999999999999996,
          0.0000505,
          0.000051,
          0.0000515,
          0.000052,
          0.000052499999999999995,
          0.000053,
          0.0000535,
          0.000054,
          0.000054499999999999997,
          0.000054999999999999995,
          0.0000555,
          0.000056,
          0.0000565,
          0.000056999999999999996,
          0.000057499999999999995,
          0.000058,
          0.0000585,
          0.000059,
          0.000059499999999999996,
          0.000059999999999999995,
          0.0000605,
          0.000061,
          0.00006149999999999999,
          0.000062,
          0.0000625,
          0.000063,
          0.0000635,
          0.000064,
          0.0000645,
          0.000065,
          0.00006549999999999999,
          0.00006599999999999999,
          0.0000665,
          0.000067,
          0.0000675,
          0.000068,
          0.0000685,
          0.000069,
          0.0000695,
          0.00007,
          0.00007049999999999999,
          0.00007099999999999999,
          0.0000715,
          0.000072,
          0.0000725,
          0.000073,
          0.0000735,
          0.000074,
          0.0000745,
          0.000075,
          0.00007549999999999999,
          0.00007599999999999999,
          0.0000765,
          0.000077,
          0.0000775,
          0.000078,
          0.0000785,
          0.000079,
          0.0000795,
          0.00007999999999999999,
          0.00008049999999999999,
          0.00008099999999999999,
          0.0000815,
          0.000082,
          0.0000825,
          0.000083,
          0.0000835,
          0.000084,
          0.0000845,
          0.00008499999999999999,
          0.00008549999999999999,
          0.00008599999999999999,
          0.0000865,
          0.000087,
          0.0000875,
          0.000088,
          0.0000885,
          0.000089,
          0.0000895,
          0.00008999999999999999,
          0.00009049999999999999,
          0.00009099999999999999,
          0.0000915,
          0.000092,
          0.0000925,
          0.000093,
          0.0000935,
          0.000094,
          0.00009449999999999999,
          0.00009499999999999999,
          0.00009549999999999999,
          0.000096,
          0.0000965,
          0.000097,
          0.0000975,
          0.000098,
          0.0000985,
          0.000099,
          0.00009949999999999999,
          0.00009999999999999999,
          0.00010049999999999999,
          0.000101,
          0.0001015,
          0.000102,
          0.0001025,
          0.000103,
          0.0001035,
          0.000104,
          0.00010449999999999999,
          0.00010499999999999999,
          0.00010549999999999999,
          0.000106,
          0.0001065,
          0.000107,
          0.0001075,
          0.000108,
          0.0001085,
          0.00010899999999999999,
          0.00010949999999999999,
          0.00010999999999999999,
          0.00011049999999999999,
          0.000111,
          0.0001115,
          0.000112,
          0.0001125,
          0.000113,
          0.0001135,
          0.00011399999999999999,
          0.00011449999999999999,
          0.00011499999999999999,
          0.00011549999999999999,
          0.000116,
          0.0001165,
          0.000117,
          0.0001175,
          0.000118,
          0.0001185,
          0.00011899999999999999,
          0.00011949999999999999,
          0.00011999999999999999,
          0.00012049999999999999,
          0.000121,
          0.0001215,
          0.000122,
          0.0001225,
          0.00012299999999999998,
          0.0001235,
          0.000124,
          0.0001245,
          0.000125,
          0.0001255,
          0.000126,
          0.00012649999999999998,
          0.000127,
          0.00012749999999999998,
          0.000128,
          0.0001285,
          0.000129,
          0.0001295,
          0.00013,
          0.0001305,
          0.00013099999999999999,
          0.0001315,
          0.00013199999999999998,
          0.0001325,
          0.000133,
          0.0001335,
          0.000134,
          0.0001345,
          0.000135,
          0.0001355,
          0.000136,
          0.00013649999999999998,
          0.000137,
          0.00013749999999999998,
          0.000138,
          0.0001385,
          0.000139,
          0.0001395,
          0.00014,
          0.0001405,
          0.00014099999999999998,
          0.0001415,
          0.00014199999999999998,
          0.0001425,
          0.000143
         ],
         "y": [
          14.196746509144297,
          22.49150166429206,
          12.539197997447348,
          15.751857799884975,
          24.64972884199871,
          25.99613976288179,
          12.702369650631635,
          24.810938159426048,
          40.80770752366488,
          30.22099568387894,
          -12.158325210922904,
          9.022466018462163,
          72.45169838262322,
          69.83142533286795,
          1.0819219917490275,
          -15.57444094165861,
          27.021264628180678,
          85.20469116941364,
          70.44409918682696,
          8.585538751573875,
          -2.0356225958599237,
          34.531190283753055,
          31.63693671770891,
          53.012309032566705,
          75.53790921636107,
          29.086027967892445,
          -24.197631408042906,
          16.138723886315812,
          77.02807641143056,
          65.12758307391712,
          14.937459228769361,
          22.450006210431717,
          37.38506449995996,
          11.319955946279077,
          23.327264743496812,
          63.882543934189286,
          35.3818838104254,
          31.365843893907176,
          50.78928755825616,
          3.099155309301866,
          -0.5094290955536445,
          71.45458916315738,
          64.5810512476009,
          27.937813207961852,
          38.95197793356914,
          21.355931810767142,
          2.89156451533285,
          39.4215683974554,
          52.5932307615432,
          45.805390555336096,
          43.86304513057558,
          18.210169031616292,
          13.654389296807995,
          39.83737923529301,
          39.615430791815314,
          43.81763580307633,
          61.30154142808965,
          43.589679145923085,
          24.040345243360623,
          27.757061469828354,
          23.125716828070612,
          27.285029989247295,
          53.232201048863544,
          57.094784550054925,
          40.69062323636249,
          35.388266244178375,
          38.91407045013982,
          49.28956997297457,
          70.18859141577494,
          92.73824167739264,
          111.21682124633821,
          121.53543691928932,
          131.86967458456536,
          151.64957835685956,
          185.3744623677615,
          225.36650440665537,
          277.3856281692716,
          325.63765737752567,
          369.50446429689987,
          413.0427968997023,
          464.15875788448335,
          520.7241384555426,
          594.2169239592773,
          670.248086345181,
          753.8918937220267,
          832.2989170985752,
          907.6428181200582,
          977.150661194677,
          1056.462404890348,
          1120.3544608932596,
          1193.083670927832,
          1264.88247741107,
          1325.8858747763165,
          1363.6499247779432,
          1397.7312214665228,
          1409.6886496224115,
          1435.567553867002,
          1442.2120661231133,
          1447.6613810161145,
          1449.8968651757755,
          1460.3523910357687,
          1433.4403463997787,
          1443.8971391291816,
          1404.5433571046312,
          1414.1732127562775,
          1407.2545019154618,
          1391.0277170820589,
          1423.6917377286634,
          1404.1638347775458,
          1427.3702310808294,
          1415.1466857341725,
          1412.4244121492745,
          1414.0873699090773,
          1416.9369438721983,
          1409.5421514413576,
          1407.9291286465418,
          1397.3777135168743,
          1393.3472192850306,
          1380.862304755016,
          1363.6964606148492,
          1349.5051279544691,
          1340.6867576486075,
          1332.0683734059796,
          1329.6252868773186,
          1324.7539248324576,
          1320.3957824196073,
          1318.578052613202,
          1316.101177225598,
          1308.0883083220372,
          1304.5893374683287,
          1303.1977008203207,
          1293.1777753772756,
          1282.770057091829,
          1278.8736197982528,
          1277.5520000489116,
          1269.1238840734732,
          1256.7792760174227,
          1251.0028831344396,
          1251.7166366465885,
          1249.7965710780095,
          1243.4778571871993,
          1235.5174142540814,
          1231.6298807900234,
          1224.579291964901,
          1214.7306551388147,
          1207.0689559632315,
          1204.2126754518886,
          1200.1844782800983,
          1188.5972121973846,
          1175.836455027587,
          1171.6453545639754,
          1166.0451642362762,
          1160.8584713525017,
          1158.1578951909876,
          1156.3805299728933,
          1154.3882934129194,
          1150.4377028125734,
          1144.1715088354817,
          1138.0785360663253,
          1132.5118182229523,
          1118.7347792966252,
          1106.9104375368042,
          1103.1106975510459,
          1102.7695641972277,
          1098.80759316194,
          1093.8455772146388,
          1091.1268530783545,
          1087.0714090332892,
          1076.5054474596154,
          1062.645089011506,
          1050.6630088598918,
          1044.2189675714387,
          1040.1446797155324,
          1038.4612777111004,
          1036.570529802806,
          1037.9607006991262,
          1028.700292223948,
          1018.0689757129677,
          1008.039370084343,
          1000.0061472549235,
          986.6419170461603,
          979.4267092968097,
          973.3886601883646,
          974.7923819122641,
          977.0301366122719,
          977.914635110531,
          973.766614660619,
          969.7302535779593,
          954.4830585891847,
          940.619117346598,
          927.3255120855255,
          919.1300338260592,
          913.5631939215384,
          913.5774632323311,
          912.7159738681563,
          919.6964284213676,
          921.1452969557538,
          913.735360615462,
          898.3591981305611,
          887.3861673199918,
          869.2638977104754,
          854.5747259308931,
          836.4508237182442,
          837.0924701091102,
          835.6405420087347,
          837.4111197144261,
          835.8401603329369,
          841.2613825344805,
          830.7828076593308,
          814.9134489836287,
          787.9911424207953,
          767.0286377018391,
          738.4774094156854,
          713.0513685741746,
          689.8415396042249,
          679.0290519951691,
          661.0607288327712,
          646.6534283603116,
          626.8408521959581,
          600.9456848094229,
          558.4985784390425,
          509.8370640132329,
          440.15570234462405,
          374.09424292925365,
          300.674812850703,
          233.55641454189586,
          165.70315245676434,
          106.54819793827349,
          46.666730105036436,
          0.7618779648975353,
          -55.826738783328125,
          -103.03001250227315,
          -162.20927217503962,
          -226.50223575045624,
          -294.9194446482162,
          -349.4880486369849,
          -420.07996048614507,
          -477.0281514061863,
          -522.7348508873698,
          -547.9074623655357,
          -562.7382251253107,
          -565.7129648848909,
          -571.1261675363623,
          -545.2067487976352,
          -524.6448048278457,
          -509.4504233078663,
          -505.2475463674145,
          -496.14764491231915,
          -501.0405946059808,
          -503.8823160776356,
          -527.6737793978579,
          -544.9895790311668,
          -555.6259534790331,
          -560.7533339011401,
          -570.602283338114,
          -559.1480809193673,
          -549.4574653941756,
          -524.3323423853642,
          -507.7380907768541,
          -484.9217720675376,
          -463.67567797592113,
          -438.22772767662264,
          -436.1149460398364,
          -435.9268290722446,
          -450.7381139831596,
          -452.5519218286785,
          -469.492904000994,
          -500.3882352824794,
          -532.0409016389345,
          -535.5433653653553,
          -554.0065719169111,
          -566.5370921401768,
          -577.5950727271639,
          -567.578796032272,
          -552.2630708760724,
          -530.4154802347141,
          -514.8474573749326,
          -471.47955580896667,
          -437.2999406545222,
          -397.68055862531713,
          -359.0131006104394,
          -316.87260649973007,
          -283.61472055248294,
          -232.64714668590008,
          -199.86881780285432,
          -173.7758029727086,
          -152.78501547605103
         ]
        }
       ],
       "layout": {
        "template": {
         "data": {
          "bar": [
           {
            "error_x": {
             "color": "#2a3f5f"
            },
            "error_y": {
             "color": "#2a3f5f"
            },
            "marker": {
             "line": {
              "color": "#E5ECF6",
              "width": 0.5
             },
             "pattern": {
              "fillmode": "overlay",
              "size": 10,
              "solidity": 0.2
             }
            },
            "type": "bar"
           }
          ],
          "barpolar": [
           {
            "marker": {
             "line": {
              "color": "#E5ECF6",
              "width": 0.5
             },
             "pattern": {
              "fillmode": "overlay",
              "size": 10,
              "solidity": 0.2
             }
            },
            "type": "barpolar"
           }
          ],
          "carpet": [
           {
            "aaxis": {
             "endlinecolor": "#2a3f5f",
             "gridcolor": "white",
             "linecolor": "white",
             "minorgridcolor": "white",
             "startlinecolor": "#2a3f5f"
            },
            "baxis": {
             "endlinecolor": "#2a3f5f",
             "gridcolor": "white",
             "linecolor": "white",
             "minorgridcolor": "white",
             "startlinecolor": "#2a3f5f"
            },
            "type": "carpet"
           }
          ],
          "choropleth": [
           {
            "colorbar": {
             "outlinewidth": 0,
             "ticks": ""
            },
            "type": "choropleth"
           }
          ],
          "contour": [
           {
            "colorbar": {
             "outlinewidth": 0,
             "ticks": ""
            },
            "colorscale": [
             [
              0,
              "#0d0887"
             ],
             [
              0.1111111111111111,
              "#46039f"
             ],
             [
              0.2222222222222222,
              "#7201a8"
             ],
             [
              0.3333333333333333,
              "#9c179e"
             ],
             [
              0.4444444444444444,
              "#bd3786"
             ],
             [
              0.5555555555555556,
              "#d8576b"
             ],
             [
              0.6666666666666666,
              "#ed7953"
             ],
             [
              0.7777777777777778,
              "#fb9f3a"
             ],
             [
              0.8888888888888888,
              "#fdca26"
             ],
             [
              1,
              "#f0f921"
             ]
            ],
            "type": "contour"
           }
          ],
          "contourcarpet": [
           {
            "colorbar": {
             "outlinewidth": 0,
             "ticks": ""
            },
            "type": "contourcarpet"
           }
          ],
          "heatmap": [
           {
            "colorbar": {
             "outlinewidth": 0,
             "ticks": ""
            },
            "colorscale": [
             [
              0,
              "#0d0887"
             ],
             [
              0.1111111111111111,
              "#46039f"
             ],
             [
              0.2222222222222222,
              "#7201a8"
             ],
             [
              0.3333333333333333,
              "#9c179e"
             ],
             [
              0.4444444444444444,
              "#bd3786"
             ],
             [
              0.5555555555555556,
              "#d8576b"
             ],
             [
              0.6666666666666666,
              "#ed7953"
             ],
             [
              0.7777777777777778,
              "#fb9f3a"
             ],
             [
              0.8888888888888888,
              "#fdca26"
             ],
             [
              1,
              "#f0f921"
             ]
            ],
            "type": "heatmap"
           }
          ],
          "heatmapgl": [
           {
            "colorbar": {
             "outlinewidth": 0,
             "ticks": ""
            },
            "colorscale": [
             [
              0,
              "#0d0887"
             ],
             [
              0.1111111111111111,
              "#46039f"
             ],
             [
              0.2222222222222222,
              "#7201a8"
             ],
             [
              0.3333333333333333,
              "#9c179e"
             ],
             [
              0.4444444444444444,
              "#bd3786"
             ],
             [
              0.5555555555555556,
              "#d8576b"
             ],
             [
              0.6666666666666666,
              "#ed7953"
             ],
             [
              0.7777777777777778,
              "#fb9f3a"
             ],
             [
              0.8888888888888888,
              "#fdca26"
             ],
             [
              1,
              "#f0f921"
             ]
            ],
            "type": "heatmapgl"
           }
          ],
          "histogram": [
           {
            "marker": {
             "pattern": {
              "fillmode": "overlay",
              "size": 10,
              "solidity": 0.2
             }
            },
            "type": "histogram"
           }
          ],
          "histogram2d": [
           {
            "colorbar": {
             "outlinewidth": 0,
             "ticks": ""
            },
            "colorscale": [
             [
              0,
              "#0d0887"
             ],
             [
              0.1111111111111111,
              "#46039f"
             ],
             [
              0.2222222222222222,
              "#7201a8"
             ],
             [
              0.3333333333333333,
              "#9c179e"
             ],
             [
              0.4444444444444444,
              "#bd3786"
             ],
             [
              0.5555555555555556,
              "#d8576b"
             ],
             [
              0.6666666666666666,
              "#ed7953"
             ],
             [
              0.7777777777777778,
              "#fb9f3a"
             ],
             [
              0.8888888888888888,
              "#fdca26"
             ],
             [
              1,
              "#f0f921"
             ]
            ],
            "type": "histogram2d"
           }
          ],
          "histogram2dcontour": [
           {
            "colorbar": {
             "outlinewidth": 0,
             "ticks": ""
            },
            "colorscale": [
             [
              0,
              "#0d0887"
             ],
             [
              0.1111111111111111,
              "#46039f"
             ],
             [
              0.2222222222222222,
              "#7201a8"
             ],
             [
              0.3333333333333333,
              "#9c179e"
             ],
             [
              0.4444444444444444,
              "#bd3786"
             ],
             [
              0.5555555555555556,
              "#d8576b"
             ],
             [
              0.6666666666666666,
              "#ed7953"
             ],
             [
              0.7777777777777778,
              "#fb9f3a"
             ],
             [
              0.8888888888888888,
              "#fdca26"
             ],
             [
              1,
              "#f0f921"
             ]
            ],
            "type": "histogram2dcontour"
           }
          ],
          "mesh3d": [
           {
            "colorbar": {
             "outlinewidth": 0,
             "ticks": ""
            },
            "type": "mesh3d"
           }
          ],
          "parcoords": [
           {
            "line": {
             "colorbar": {
              "outlinewidth": 0,
              "ticks": ""
             }
            },
            "type": "parcoords"
           }
          ],
          "pie": [
           {
            "automargin": true,
            "type": "pie"
           }
          ],
          "scatter": [
           {
            "fillpattern": {
             "fillmode": "overlay",
             "size": 10,
             "solidity": 0.2
            },
            "type": "scatter"
           }
          ],
          "scatter3d": [
           {
            "line": {
             "colorbar": {
              "outlinewidth": 0,
              "ticks": ""
             }
            },
            "marker": {
             "colorbar": {
              "outlinewidth": 0,
              "ticks": ""
             }
            },
            "type": "scatter3d"
           }
          ],
          "scattercarpet": [
           {
            "marker": {
             "colorbar": {
              "outlinewidth": 0,
              "ticks": ""
             }
            },
            "type": "scattercarpet"
           }
          ],
          "scattergeo": [
           {
            "marker": {
             "colorbar": {
              "outlinewidth": 0,
              "ticks": ""
             }
            },
            "type": "scattergeo"
           }
          ],
          "scattergl": [
           {
            "marker": {
             "colorbar": {
              "outlinewidth": 0,
              "ticks": ""
             }
            },
            "type": "scattergl"
           }
          ],
          "scattermapbox": [
           {
            "marker": {
             "colorbar": {
              "outlinewidth": 0,
              "ticks": ""
             }
            },
            "type": "scattermapbox"
           }
          ],
          "scatterpolar": [
           {
            "marker": {
             "colorbar": {
              "outlinewidth": 0,
              "ticks": ""
             }
            },
            "type": "scatterpolar"
           }
          ],
          "scatterpolargl": [
           {
            "marker": {
             "colorbar": {
              "outlinewidth": 0,
              "ticks": ""
             }
            },
            "type": "scatterpolargl"
           }
          ],
          "scatterternary": [
           {
            "marker": {
             "colorbar": {
              "outlinewidth": 0,
              "ticks": ""
             }
            },
            "type": "scatterternary"
           }
          ],
          "surface": [
           {
            "colorbar": {
             "outlinewidth": 0,
             "ticks": ""
            },
            "colorscale": [
             [
              0,
              "#0d0887"
             ],
             [
              0.1111111111111111,
              "#46039f"
             ],
             [
              0.2222222222222222,
              "#7201a8"
             ],
             [
              0.3333333333333333,
              "#9c179e"
             ],
             [
              0.4444444444444444,
              "#bd3786"
             ],
             [
              0.5555555555555556,
              "#d8576b"
             ],
             [
              0.6666666666666666,
              "#ed7953"
             ],
             [
              0.7777777777777778,
              "#fb9f3a"
             ],
             [
              0.8888888888888888,
              "#fdca26"
             ],
             [
              1,
              "#f0f921"
             ]
            ],
            "type": "surface"
           }
          ],
          "table": [
           {
            "cells": {
             "fill": {
              "color": "#EBF0F8"
             },
             "line": {
              "color": "white"
             }
            },
            "header": {
             "fill": {
              "color": "#C8D4E3"
             },
             "line": {
              "color": "white"
             }
            },
            "type": "table"
           }
          ]
         },
         "layout": {
          "annotationdefaults": {
           "arrowcolor": "#2a3f5f",
           "arrowhead": 0,
           "arrowwidth": 1
          },
          "autotypenumbers": "strict",
          "coloraxis": {
           "colorbar": {
            "outlinewidth": 0,
            "ticks": ""
           }
          },
          "colorscale": {
           "diverging": [
            [
             0,
             "#8e0152"
            ],
            [
             0.1,
             "#c51b7d"
            ],
            [
             0.2,
             "#de77ae"
            ],
            [
             0.3,
             "#f1b6da"
            ],
            [
             0.4,
             "#fde0ef"
            ],
            [
             0.5,
             "#f7f7f7"
            ],
            [
             0.6,
             "#e6f5d0"
            ],
            [
             0.7,
             "#b8e186"
            ],
            [
             0.8,
             "#7fbc41"
            ],
            [
             0.9,
             "#4d9221"
            ],
            [
             1,
             "#276419"
            ]
           ],
           "sequential": [
            [
             0,
             "#0d0887"
            ],
            [
             0.1111111111111111,
             "#46039f"
            ],
            [
             0.2222222222222222,
             "#7201a8"
            ],
            [
             0.3333333333333333,
             "#9c179e"
            ],
            [
             0.4444444444444444,
             "#bd3786"
            ],
            [
             0.5555555555555556,
             "#d8576b"
            ],
            [
             0.6666666666666666,
             "#ed7953"
            ],
            [
             0.7777777777777778,
             "#fb9f3a"
            ],
            [
             0.8888888888888888,
             "#fdca26"
            ],
            [
             1,
             "#f0f921"
            ]
           ],
           "sequentialminus": [
            [
             0,
             "#0d0887"
            ],
            [
             0.1111111111111111,
             "#46039f"
            ],
            [
             0.2222222222222222,
             "#7201a8"
            ],
            [
             0.3333333333333333,
             "#9c179e"
            ],
            [
             0.4444444444444444,
             "#bd3786"
            ],
            [
             0.5555555555555556,
             "#d8576b"
            ],
            [
             0.6666666666666666,
             "#ed7953"
            ],
            [
             0.7777777777777778,
             "#fb9f3a"
            ],
            [
             0.8888888888888888,
             "#fdca26"
            ],
            [
             1,
             "#f0f921"
            ]
           ]
          },
          "colorway": [
           "#636efa",
           "#EF553B",
           "#00cc96",
           "#ab63fa",
           "#FFA15A",
           "#19d3f3",
           "#FF6692",
           "#B6E880",
           "#FF97FF",
           "#FECB52"
          ],
          "font": {
           "color": "#2a3f5f"
          },
          "geo": {
           "bgcolor": "white",
           "lakecolor": "white",
           "landcolor": "#E5ECF6",
           "showlakes": true,
           "showland": true,
           "subunitcolor": "white"
          },
          "hoverlabel": {
           "align": "left"
          },
          "hovermode": "closest",
          "mapbox": {
           "style": "light"
          },
          "paper_bgcolor": "white",
          "plot_bgcolor": "#E5ECF6",
          "polar": {
           "angularaxis": {
            "gridcolor": "white",
            "linecolor": "white",
            "ticks": ""
           },
           "bgcolor": "#E5ECF6",
           "radialaxis": {
            "gridcolor": "white",
            "linecolor": "white",
            "ticks": ""
           }
          },
          "scene": {
           "xaxis": {
            "backgroundcolor": "#E5ECF6",
            "gridcolor": "white",
            "gridwidth": 2,
            "linecolor": "white",
            "showbackground": true,
            "ticks": "",
            "zerolinecolor": "white"
           },
           "yaxis": {
            "backgroundcolor": "#E5ECF6",
            "gridcolor": "white",
            "gridwidth": 2,
            "linecolor": "white",
            "showbackground": true,
            "ticks": "",
            "zerolinecolor": "white"
           },
           "zaxis": {
            "backgroundcolor": "#E5ECF6",
            "gridcolor": "white",
            "gridwidth": 2,
            "linecolor": "white",
            "showbackground": true,
            "ticks": "",
            "zerolinecolor": "white"
           }
          },
          "shapedefaults": {
           "line": {
            "color": "#2a3f5f"
           }
          },
          "ternary": {
           "aaxis": {
            "gridcolor": "white",
            "linecolor": "white",
            "ticks": ""
           },
           "baxis": {
            "gridcolor": "white",
            "linecolor": "white",
            "ticks": ""
           },
           "bgcolor": "#E5ECF6",
           "caxis": {
            "gridcolor": "white",
            "linecolor": "white",
            "ticks": ""
           }
          },
          "title": {
           "x": 0.05
          },
          "xaxis": {
           "automargin": true,
           "gridcolor": "white",
           "linecolor": "white",
           "ticks": "",
           "title": {
            "standoff": 15
           },
           "zerolinecolor": "white",
           "zerolinewidth": 2
          },
          "yaxis": {
           "automargin": true,
           "gridcolor": "white",
           "linecolor": "white",
           "ticks": "",
           "title": {
            "standoff": 15
           },
           "zerolinecolor": "white",
           "zerolinewidth": 2
          }
         }
        }
       }
      }
     },
     "metadata": {},
     "output_type": "display_data"
    }
   ],
   "source": [
    "import plotly.graph_objects as go\n",
    "fig1 = go.Figure()\n",
    "fig1.add_trace(go.Scatter(x = sp1.time, y = sp1.strain_rate))\n",
    "fig1.show()\n"
   ]
  },
  {
   "cell_type": "code",
   "execution_count": 18,
   "metadata": {},
   "outputs": [
    {
     "data": {
      "text/plain": [
       "1268.281214146455"
      ]
     },
     "execution_count": 18,
     "metadata": {},
     "output_type": "execute_result"
    }
   ],
   "source": [
    "SignalProcessing.mean_of_signal('update_logger', sp1.strain_rate[:-1], 0.5, 'compression',\n",
    "                                                           60)"
   ]
  },
  {
   "cell_type": "code",
   "execution_count": 14,
   "metadata": {},
   "outputs": [
    {
     "data": {
      "text/plain": [
       "array([1.41967465e+01, 2.24915017e+01, 1.25391980e+01, 1.57518578e+01,\n",
       "       2.46497288e+01, 2.59961398e+01, 1.27023697e+01, 2.48109382e+01,\n",
       "       4.08077075e+01, 3.02209957e+01, 1.21583252e+01, 9.02246602e+00,\n",
       "       7.24516984e+01, 6.98314253e+01, 1.08192199e+00, 1.55744409e+01,\n",
       "       2.70212646e+01, 8.52046912e+01, 7.04440992e+01, 8.58553875e+00,\n",
       "       2.03562260e+00, 3.45311903e+01, 3.16369367e+01, 5.30123090e+01,\n",
       "       7.55379092e+01, 2.90860280e+01, 2.41976314e+01, 1.61387239e+01,\n",
       "       7.70280764e+01, 6.51275831e+01, 1.49374592e+01, 2.24500062e+01,\n",
       "       3.73850645e+01, 1.13199559e+01, 2.33272647e+01, 6.38825439e+01,\n",
       "       3.53818838e+01, 3.13658439e+01, 5.07892876e+01, 3.09915531e+00,\n",
       "       5.09429096e-01, 7.14545892e+01, 6.45810512e+01, 2.79378132e+01,\n",
       "       3.89519779e+01, 2.13559318e+01, 2.89156452e+00, 3.94215684e+01,\n",
       "       5.25932308e+01, 4.58053906e+01, 4.38630451e+01, 1.82101690e+01,\n",
       "       1.36543893e+01, 3.98373792e+01, 3.96154308e+01, 4.38176358e+01,\n",
       "       6.13015414e+01, 4.35896791e+01, 2.40403452e+01, 2.77570615e+01,\n",
       "       2.31257168e+01, 2.72850300e+01, 5.32322010e+01, 5.70947846e+01,\n",
       "       4.06906232e+01, 3.53882662e+01, 3.89140705e+01, 4.92895700e+01,\n",
       "       7.01885914e+01, 9.27382417e+01, 1.11216821e+02, 1.21535437e+02,\n",
       "       1.31869675e+02, 1.51649578e+02, 1.85374462e+02, 2.25366504e+02,\n",
       "       2.77385628e+02, 3.25637657e+02, 3.69504464e+02, 4.13042797e+02,\n",
       "       4.64158758e+02, 5.20724138e+02, 5.94216924e+02, 6.70248086e+02,\n",
       "       7.53891894e+02, 8.32298917e+02, 9.07642818e+02, 9.77150661e+02,\n",
       "       1.05646240e+03, 1.12035446e+03, 1.19308367e+03, 1.26488248e+03,\n",
       "       1.32588587e+03, 1.36364992e+03, 1.39773122e+03, 1.40968865e+03,\n",
       "       1.43556755e+03, 1.44221207e+03, 1.44766138e+03, 1.44989687e+03,\n",
       "       1.46035239e+03, 1.43344035e+03, 1.44389714e+03, 1.40454336e+03,\n",
       "       1.41417321e+03, 1.40725450e+03, 1.39102772e+03, 1.42369174e+03,\n",
       "       1.40416383e+03, 1.42737023e+03, 1.41514669e+03, 1.41242441e+03,\n",
       "       1.41408737e+03, 1.41693694e+03, 1.40954215e+03, 1.40792913e+03,\n",
       "       1.39737771e+03, 1.39334722e+03, 1.38086230e+03, 1.36369646e+03,\n",
       "       1.34950513e+03, 1.34068676e+03, 1.33206837e+03, 1.32962529e+03,\n",
       "       1.32475392e+03, 1.32039578e+03, 1.31857805e+03, 1.31610118e+03,\n",
       "       1.30808831e+03, 1.30458934e+03, 1.30319770e+03, 1.29317778e+03,\n",
       "       1.28277006e+03, 1.27887362e+03, 1.27755200e+03, 1.26912388e+03,\n",
       "       1.25677928e+03, 1.25100288e+03, 1.25171664e+03, 1.24979657e+03,\n",
       "       1.24347786e+03, 1.23551741e+03, 1.23162988e+03, 1.22457929e+03,\n",
       "       1.21473066e+03, 1.20706896e+03, 1.20421268e+03, 1.20018448e+03,\n",
       "       1.18859721e+03, 1.17583646e+03, 1.17164535e+03, 1.16604516e+03,\n",
       "       1.16085847e+03, 1.15815790e+03, 1.15638053e+03, 1.15438829e+03,\n",
       "       1.15043770e+03, 1.14417151e+03, 1.13807854e+03, 1.13251182e+03,\n",
       "       1.11873478e+03, 1.10691044e+03, 1.10311070e+03, 1.10276956e+03,\n",
       "       1.09880759e+03, 1.09384558e+03, 1.09112685e+03, 1.08707141e+03,\n",
       "       1.07650545e+03, 1.06264509e+03, 1.05066301e+03, 1.04421897e+03,\n",
       "       1.04014468e+03, 1.03846128e+03, 1.03657053e+03, 1.03796070e+03,\n",
       "       1.02870029e+03, 1.01806898e+03, 1.00803937e+03, 1.00000615e+03,\n",
       "       9.86641917e+02, 9.79426709e+02, 9.73388660e+02, 9.74792382e+02,\n",
       "       9.77030137e+02, 9.77914635e+02, 9.73766615e+02, 9.69730254e+02,\n",
       "       9.54483059e+02, 9.40619117e+02, 9.27325512e+02, 9.19130034e+02,\n",
       "       9.13563194e+02, 9.13577463e+02, 9.12715974e+02, 9.19696428e+02,\n",
       "       9.21145297e+02, 9.13735361e+02, 8.98359198e+02, 8.87386167e+02,\n",
       "       8.69263898e+02, 8.54574726e+02, 8.36450824e+02, 8.37092470e+02,\n",
       "       8.35640542e+02, 8.37411120e+02, 8.35840160e+02, 8.41261383e+02,\n",
       "       8.30782808e+02, 8.14913449e+02, 7.87991142e+02, 7.67028638e+02,\n",
       "       7.38477409e+02, 7.13051369e+02, 6.89841540e+02, 6.79029052e+02,\n",
       "       6.61060729e+02, 6.46653428e+02, 6.26840852e+02, 6.00945685e+02,\n",
       "       5.58498578e+02, 5.09837064e+02, 4.40155702e+02, 3.74094243e+02,\n",
       "       3.00674813e+02, 2.33556415e+02, 1.65703152e+02, 1.06548198e+02,\n",
       "       4.66667301e+01, 7.61877965e-01, 5.58267388e+01, 1.03030013e+02,\n",
       "       1.62209272e+02, 2.26502236e+02, 2.94919445e+02, 3.49488049e+02,\n",
       "       4.20079960e+02, 4.77028151e+02, 5.22734851e+02, 5.47907462e+02,\n",
       "       5.62738225e+02, 5.65712965e+02, 5.71126168e+02, 5.45206749e+02,\n",
       "       5.24644805e+02, 5.09450423e+02, 5.05247546e+02, 4.96147645e+02,\n",
       "       5.01040595e+02, 5.03882316e+02, 5.27673779e+02, 5.44989579e+02,\n",
       "       5.55625953e+02, 5.60753334e+02, 5.70602283e+02, 5.59148081e+02,\n",
       "       5.49457465e+02, 5.24332342e+02, 5.07738091e+02, 4.84921772e+02,\n",
       "       4.63675678e+02, 4.38227728e+02, 4.36114946e+02, 4.35926829e+02,\n",
       "       4.50738114e+02, 4.52551922e+02, 4.69492904e+02, 5.00388235e+02,\n",
       "       5.32040902e+02, 5.35543365e+02, 5.54006572e+02, 5.66537092e+02,\n",
       "       5.77595073e+02, 5.67578796e+02, 5.52263071e+02, 5.30415480e+02,\n",
       "       5.14847457e+02, 4.71479556e+02, 4.37299941e+02, 3.97680559e+02,\n",
       "       3.59013101e+02, 3.16872606e+02, 2.83614721e+02, 2.32647147e+02,\n",
       "       1.99868818e+02, 1.73775803e+02])"
      ]
     },
     "execution_count": 14,
     "metadata": {},
     "output_type": "execute_result"
    }
   ],
   "source": [
    "np.absolute(sp1.strain_rate[:-1])"
   ]
  },
  {
   "cell_type": "code",
   "execution_count": null,
   "metadata": {},
   "outputs": [],
   "source": []
  }
 ],
 "metadata": {
  "kernelspec": {
   "display_name": "Python 3.9.2 ('venv')",
   "language": "python",
   "name": "python3"
  },
  "language_info": {
   "codemirror_mode": {
    "name": "ipython",
    "version": 3
   },
   "file_extension": ".py",
   "mimetype": "text/x-python",
   "name": "python",
   "nbconvert_exporter": "python",
   "pygments_lexer": "ipython3",
   "version": "3.9.2"
  },
  "orig_nbformat": 4,
  "vscode": {
   "interpreter": {
    "hash": "7ce6685aacdc8c853539ced092208b81a22dd5fa7dff8c6a41fcbc0ff121c400"
   }
  }
 },
 "nbformat": 4,
 "nbformat_minor": 2
}
