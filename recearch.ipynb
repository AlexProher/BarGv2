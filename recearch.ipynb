{
 "cells": [
  {
   "cell_type": "code",
   "execution_count": 1,
   "metadata": {},
   "outputs": [],
   "source": [
    "from main import make_analysis"
   ]
  },
  {
   "cell_type": "code",
   "execution_count": 2,
   "metadata": {},
   "outputs": [
    {
     "name": "stdout",
     "output_type": "stream",
     "text": [
      "material 12_06_22_1k\n",
      "/Users/lubimyj/Git/experiments/raf_test/12_06_22_1k/\n",
      "specimen Specimen1\n",
      "\n",
      "...detecting signal peaks with Sav - Gol filter with 57 window length (Curve Smoothing).\n",
      "\n",
      "...Peaks detected in both signals. \n",
      "\n",
      "Automatic Cropping CMPLT.\n",
      "...obtaining Fourier components\n",
      "...Fourier components obtained, performing inverse Fourier transform...\n",
      "Dispersion Correction CMPLT.\n",
      "\n",
      "Signal cross - corelation Initialized...\n",
      "\n",
      "Cross - Correlation CMPLT.\n",
      "Final Calculation Commencing...\n",
      "Unable to calculate Mean Striker Velocity.\n",
      "Final Calculation CMPLT.\n",
      "No IR data to analyse\n",
      "specimen Specimen2\n",
      "\n",
      "...detecting signal peaks with Sav - Gol filter with 57 window length (Curve Smoothing).\n",
      "\n",
      "...Peaks detected in both signals. \n",
      "\n",
      "Automatic Cropping CMPLT.\n",
      "...obtaining Fourier components\n",
      "...Fourier components obtained, performing inverse Fourier transform...\n",
      "Dispersion Correction CMPLT.\n",
      "\n",
      "Signal cross - corelation Initialized...\n",
      "\n",
      "Cross - Correlation CMPLT.\n",
      "Final Calculation Commencing...\n",
      "Unable to calculate Mean Striker Velocity.\n",
      "Final Calculation CMPLT.\n",
      "No IR data to analyse\n",
      "specimen Specimen3\n",
      "\n",
      "...detecting signal peaks with Sav - Gol filter with 57 window length (Curve Smoothing).\n",
      "\n",
      "...Peaks detected in both signals. \n",
      "\n",
      "Automatic Cropping CMPLT.\n",
      "...obtaining Fourier components\n",
      "...Fourier components obtained, performing inverse Fourier transform...\n",
      "Dispersion Correction CMPLT.\n",
      "\n",
      "Signal cross - corelation Initialized...\n",
      "\n",
      "Cross - Correlation CMPLT.\n",
      "Final Calculation Commencing...\n",
      "Unable to calculate Mean Striker Velocity.\n",
      "Final Calculation CMPLT.\n",
      "No IR data to analyse\n"
     ]
    }
   ],
   "source": [
    "experiment = make_analysis('/Users/lubimyj/Git/experiments/raf_test/')"
   ]
  },
  {
   "cell_type": "code",
   "execution_count": 3,
   "metadata": {},
   "outputs": [],
   "source": [
    "denal920 = experiment.get_material('12_06_22_1k')"
   ]
  },
  {
   "cell_type": "code",
   "execution_count": 4,
   "metadata": {},
   "outputs": [
    {
     "data": {
      "text/plain": [
       "[Specimen1, Specimen2, Specimen3]"
      ]
     },
     "execution_count": 4,
     "metadata": {},
     "output_type": "execute_result"
    }
   ],
   "source": [
    "denal920.get_specimens()"
   ]
  },
  {
   "cell_type": "code",
   "execution_count": 8,
   "metadata": {},
   "outputs": [
    {
     "data": {
      "text/plain": [
       "0"
      ]
     },
     "execution_count": 8,
     "metadata": {},
     "output_type": "execute_result"
    }
   ],
   "source": [
    "experiment.list_materials.index('Denal920')"
   ]
  },
  {
   "cell_type": "code",
   "execution_count": null,
   "metadata": {},
   "outputs": [],
   "source": []
  }
 ],
 "metadata": {
  "kernelspec": {
   "display_name": "Python 3.9.2 ('venv')",
   "language": "python",
   "name": "python3"
  },
  "language_info": {
   "codemirror_mode": {
    "name": "ipython",
    "version": 3
   },
   "file_extension": ".py",
   "mimetype": "text/x-python",
   "name": "python",
   "nbconvert_exporter": "python",
   "pygments_lexer": "ipython3",
   "version": "3.9.2"
  },
  "orig_nbformat": 4,
  "vscode": {
   "interpreter": {
    "hash": "7ce6685aacdc8c853539ced092208b81a22dd5fa7dff8c6a41fcbc0ff121c400"
   }
  }
 },
 "nbformat": 4,
 "nbformat_minor": 2
}
